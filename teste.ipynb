{
 "cells": [
  {
   "cell_type": "code",
   "execution_count": 2,
   "id": "b8d5ffcb",
   "metadata": {},
   "outputs": [
    {
     "name": "stdout",
     "output_type": "stream",
     "text": [
      "Olá, GitHub! Testando edição.\n"
     ]
    }
   ],
   "source": [
    "print(\"Olá, GitHub! Testando edição.\")"
   ]
  },
  {
   "cell_type": "code",
   "execution_count": 1,
   "id": "de36e511",
   "metadata": {},
   "outputs": [
    {
     "name": "stdout",
     "output_type": "stream",
     "text": [
      "Linha 0\n",
      "Linha 1\n",
      "Linha 2\n",
      "Linha 3\n",
      "Linha 4\n"
     ]
    }
   ],
   "source": [
    "for i in range(5):\n",
    "    print(f\"Linha {i}\")\n"
   ]
  }
 ],
 "metadata": {
  "kernelspec": {
   "display_name": "Python 3",
   "language": "python",
   "name": "python3"
  },
  "language_info": {
   "codemirror_mode": {
    "name": "ipython",
    "version": 3
   },
   "file_extension": ".py",
   "mimetype": "text/x-python",
   "name": "python",
   "nbconvert_exporter": "python",
   "pygments_lexer": "ipython3",
   "version": "3.13.3"
  }
 },
 "nbformat": 4,
 "nbformat_minor": 5
}
